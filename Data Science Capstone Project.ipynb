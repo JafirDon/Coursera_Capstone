{
    "cells": [
        {
            "metadata": {},
            "cell_type": "markdown",
            "source": "<center><h1>Data Science Capstone Project</h1></center>"
        },
        {
            "metadata": {},
            "cell_type": "markdown",
            "source": "<h3>Table of Content</h3>\n<ul>\n    <li><a href='#a'>Problem description and Data Understanding</a></li>\n    <li><a href='#b'>Data Preparation</a></li>\n    <li><a href='#c'>Exploratory Data Analysis</a></li>\n    <li><a href='#d'>Predictive Modeling & Evaluation</a></li>\n    <li><a href='#e'>Conclusion</a></li>\n</ul>"
        },
        {
            "metadata": {
                "collapsed": true
            },
            "cell_type": "markdown",
            "source": "<h2 id='a'>Problem description and Data Understanding </h2>"
        },
        {
            "metadata": {},
            "cell_type": "markdown",
            "source": "\n<h3> Collisions</h3>\n<p>A collision is the event in which two or more bodies exert forces on each other in about a relatively short time. Although the most common use of the word collision refers to incidents in which two or more objects collide with great force, the scientific use of the term implies nothing about the magnitude of the force.</p><br>\nThe topic is:\n <h3>Trafic Collisions - All years</h3><br>\n A traffic collision, also called a motor vehicle collision, car accident, or car crash, occurs when a vehicle collides with another vehicle, pedestrian, animal, road debris, or other stationary obstruction, such as a tree, pole or building. Traffic collisions often result in injury, disability, death, and property damage as well as financial costs to both society and the individuals involved.\n<p>All collisions provided by SPD and recorded by Traffic Records. </p>\n\n"
        },
        {
            "metadata": {},
            "cell_type": "code",
            "source": "#import libaries\nimport numpy as np\nimport pandas as pd\nimport matplotlib as mpl\nimport matplotlib.pyplot as plt\nimport seaborn as sns\nmpl.style.use('ggplot')",
            "execution_count": 3,
            "outputs": []
        },
        {
            "metadata": {},
            "cell_type": "markdown",
            "source": "<h1> Data Understanding</h1>"
        },
        {
            "metadata": {},
            "cell_type": "code",
            "source": "#read the data\ndata = pd.read_csv(\"https://s3.us.cloud-object-storage.appdomain.cloud/cf-courses-data/CognitiveClass/DP0701EN/version-2/Data-Collisions.csv\")\nprint(\"Data read into dataframe!\") ",
            "execution_count": 4,
            "outputs": [
                {
                    "output_type": "stream",
                    "text": "/opt/conda/envs/Python36/lib/python3.6/site-packages/IPython/core/interactiveshell.py:3020: DtypeWarning: Columns (33) have mixed types. Specify dtype option on import or set low_memory=False.\n  interactivity=interactivity, compiler=compiler, result=result)\n",
                    "name": "stderr"
                },
                {
                    "output_type": "stream",
                    "text": "Data read into dataframe!\n",
                    "name": "stdout"
                }
            ]
        },
        {
            "metadata": {},
            "cell_type": "code",
            "source": "data.head()",
            "execution_count": 5,
            "outputs": [
                {
                    "output_type": "execute_result",
                    "execution_count": 5,
                    "data": {
                        "text/plain": "   SEVERITYCODE           X          Y  OBJECTID  INCKEY  COLDETKEY REPORTNO  \\\n0             2 -122.323148  47.703140         1    1307       1307  3502005   \n1             1 -122.347294  47.647172         2   52200      52200  2607959   \n2             1 -122.334540  47.607871         3   26700      26700  1482393   \n3             1 -122.334803  47.604803         4    1144       1144  3503937   \n4             2 -122.306426  47.545739         5   17700      17700  1807429   \n\n    STATUS      ADDRTYPE   INTKEY  ... ROADCOND                LIGHTCOND  \\\n0  Matched  Intersection  37475.0  ...      Wet                 Daylight   \n1  Matched         Block      NaN  ...      Wet  Dark - Street Lights On   \n2  Matched         Block      NaN  ...      Dry                 Daylight   \n3  Matched         Block      NaN  ...      Dry                 Daylight   \n4  Matched  Intersection  34387.0  ...      Wet                 Daylight   \n\n  PEDROWNOTGRNT  SDOTCOLNUM SPEEDING ST_COLCODE  \\\n0           NaN         NaN      NaN         10   \n1           NaN   6354039.0      NaN         11   \n2           NaN   4323031.0      NaN         32   \n3           NaN         NaN      NaN         23   \n4           NaN   4028032.0      NaN         10   \n\n                                          ST_COLDESC  SEGLANEKEY  \\\n0                                  Entering at angle           0   \n1  From same direction - both going straight - bo...           0   \n2                             One parked--one moving           0   \n3                   From same direction - all others           0   \n4                                  Entering at angle           0   \n\n   CROSSWALKKEY  HITPARKEDCAR  \n0             0             N  \n1             0             N  \n2             0             N  \n3             0             N  \n4             0             N  \n\n[5 rows x 38 columns]",
                        "text/html": "<div>\n<style scoped>\n    .dataframe tbody tr th:only-of-type {\n        vertical-align: middle;\n    }\n\n    .dataframe tbody tr th {\n        vertical-align: top;\n    }\n\n    .dataframe thead th {\n        text-align: right;\n    }\n</style>\n<table border=\"1\" class=\"dataframe\">\n  <thead>\n    <tr style=\"text-align: right;\">\n      <th></th>\n      <th>SEVERITYCODE</th>\n      <th>X</th>\n      <th>Y</th>\n      <th>OBJECTID</th>\n      <th>INCKEY</th>\n      <th>COLDETKEY</th>\n      <th>REPORTNO</th>\n      <th>STATUS</th>\n      <th>ADDRTYPE</th>\n      <th>INTKEY</th>\n      <th>...</th>\n      <th>ROADCOND</th>\n      <th>LIGHTCOND</th>\n      <th>PEDROWNOTGRNT</th>\n      <th>SDOTCOLNUM</th>\n      <th>SPEEDING</th>\n      <th>ST_COLCODE</th>\n      <th>ST_COLDESC</th>\n      <th>SEGLANEKEY</th>\n      <th>CROSSWALKKEY</th>\n      <th>HITPARKEDCAR</th>\n    </tr>\n  </thead>\n  <tbody>\n    <tr>\n      <th>0</th>\n      <td>2</td>\n      <td>-122.323148</td>\n      <td>47.703140</td>\n      <td>1</td>\n      <td>1307</td>\n      <td>1307</td>\n      <td>3502005</td>\n      <td>Matched</td>\n      <td>Intersection</td>\n      <td>37475.0</td>\n      <td>...</td>\n      <td>Wet</td>\n      <td>Daylight</td>\n      <td>NaN</td>\n      <td>NaN</td>\n      <td>NaN</td>\n      <td>10</td>\n      <td>Entering at angle</td>\n      <td>0</td>\n      <td>0</td>\n      <td>N</td>\n    </tr>\n    <tr>\n      <th>1</th>\n      <td>1</td>\n      <td>-122.347294</td>\n      <td>47.647172</td>\n      <td>2</td>\n      <td>52200</td>\n      <td>52200</td>\n      <td>2607959</td>\n      <td>Matched</td>\n      <td>Block</td>\n      <td>NaN</td>\n      <td>...</td>\n      <td>Wet</td>\n      <td>Dark - Street Lights On</td>\n      <td>NaN</td>\n      <td>6354039.0</td>\n      <td>NaN</td>\n      <td>11</td>\n      <td>From same direction - both going straight - bo...</td>\n      <td>0</td>\n      <td>0</td>\n      <td>N</td>\n    </tr>\n    <tr>\n      <th>2</th>\n      <td>1</td>\n      <td>-122.334540</td>\n      <td>47.607871</td>\n      <td>3</td>\n      <td>26700</td>\n      <td>26700</td>\n      <td>1482393</td>\n      <td>Matched</td>\n      <td>Block</td>\n      <td>NaN</td>\n      <td>...</td>\n      <td>Dry</td>\n      <td>Daylight</td>\n      <td>NaN</td>\n      <td>4323031.0</td>\n      <td>NaN</td>\n      <td>32</td>\n      <td>One parked--one moving</td>\n      <td>0</td>\n      <td>0</td>\n      <td>N</td>\n    </tr>\n    <tr>\n      <th>3</th>\n      <td>1</td>\n      <td>-122.334803</td>\n      <td>47.604803</td>\n      <td>4</td>\n      <td>1144</td>\n      <td>1144</td>\n      <td>3503937</td>\n      <td>Matched</td>\n      <td>Block</td>\n      <td>NaN</td>\n      <td>...</td>\n      <td>Dry</td>\n      <td>Daylight</td>\n      <td>NaN</td>\n      <td>NaN</td>\n      <td>NaN</td>\n      <td>23</td>\n      <td>From same direction - all others</td>\n      <td>0</td>\n      <td>0</td>\n      <td>N</td>\n    </tr>\n    <tr>\n      <th>4</th>\n      <td>2</td>\n      <td>-122.306426</td>\n      <td>47.545739</td>\n      <td>5</td>\n      <td>17700</td>\n      <td>17700</td>\n      <td>1807429</td>\n      <td>Matched</td>\n      <td>Intersection</td>\n      <td>34387.0</td>\n      <td>...</td>\n      <td>Wet</td>\n      <td>Daylight</td>\n      <td>NaN</td>\n      <td>4028032.0</td>\n      <td>NaN</td>\n      <td>10</td>\n      <td>Entering at angle</td>\n      <td>0</td>\n      <td>0</td>\n      <td>N</td>\n    </tr>\n  </tbody>\n</table>\n<p>5 rows \u00d7 38 columns</p>\n</div>"
                    },
                    "metadata": {}
                }
            ]
        },
        {
            "metadata": {},
            "cell_type": "code",
            "source": "#shape of the data\ndata.shape",
            "execution_count": 6,
            "outputs": [
                {
                    "output_type": "execute_result",
                    "execution_count": 6,
                    "data": {
                        "text/plain": "(194673, 38)"
                    },
                    "metadata": {}
                }
            ]
        },
        {
            "metadata": {},
            "cell_type": "code",
            "source": "#info about data\ndata.info()",
            "execution_count": 7,
            "outputs": [
                {
                    "output_type": "stream",
                    "text": "<class 'pandas.core.frame.DataFrame'>\nRangeIndex: 194673 entries, 0 to 194672\nData columns (total 38 columns):\nSEVERITYCODE      194673 non-null int64\nX                 189339 non-null float64\nY                 189339 non-null float64\nOBJECTID          194673 non-null int64\nINCKEY            194673 non-null int64\nCOLDETKEY         194673 non-null int64\nREPORTNO          194673 non-null object\nSTATUS            194673 non-null object\nADDRTYPE          192747 non-null object\nINTKEY            65070 non-null float64\nLOCATION          191996 non-null object\nEXCEPTRSNCODE     84811 non-null object\nEXCEPTRSNDESC     5638 non-null object\nSEVERITYCODE.1    194673 non-null int64\nSEVERITYDESC      194673 non-null object\nCOLLISIONTYPE     189769 non-null object\nPERSONCOUNT       194673 non-null int64\nPEDCOUNT          194673 non-null int64\nPEDCYLCOUNT       194673 non-null int64\nVEHCOUNT          194673 non-null int64\nINCDATE           194673 non-null object\nINCDTTM           194673 non-null object\nJUNCTIONTYPE      188344 non-null object\nSDOT_COLCODE      194673 non-null int64\nSDOT_COLDESC      194673 non-null object\nINATTENTIONIND    29805 non-null object\nUNDERINFL         189789 non-null object\nWEATHER           189592 non-null object\nROADCOND          189661 non-null object\nLIGHTCOND         189503 non-null object\nPEDROWNOTGRNT     4667 non-null object\nSDOTCOLNUM        114936 non-null float64\nSPEEDING          9333 non-null object\nST_COLCODE        194655 non-null object\nST_COLDESC        189769 non-null object\nSEGLANEKEY        194673 non-null int64\nCROSSWALKKEY      194673 non-null int64\nHITPARKEDCAR      194673 non-null object\ndtypes: float64(4), int64(12), object(22)\nmemory usage: 56.4+ MB\n",
                    "name": "stdout"
                }
            ]
        },
        {
            "metadata": {},
            "cell_type": "code",
            "source": "data.dtypes.value_counts().plot(kind='bar')",
            "execution_count": 8,
            "outputs": [
                {
                    "output_type": "execute_result",
                    "execution_count": 8,
                    "data": {
                        "text/plain": "<matplotlib.axes._subplots.AxesSubplot at 0x7f03cffef048>"
                    },
                    "metadata": {}
                },
                {
                    "output_type": "display_data",
                    "data": {
                        "text/plain": "<Figure size 432x288 with 1 Axes>",
                        "image/png": "[encoded data removed]"
                    },
                    "metadata": {
                        "needs_background": "light"
                    }
                }
            ]
        },
        {
            "metadata": {},
            "cell_type": "code",
            "source": "Null_values = data.isnull().sum()\nNull_values[0:38]",
            "execution_count": 9,
            "outputs": [
                {
                    "output_type": "execute_result",
                    "execution_count": 9,
                    "data": {
                        "text/plain": "SEVERITYCODE           0\nX                   5334\nY                   5334\nOBJECTID               0\nINCKEY                 0\nCOLDETKEY              0\nREPORTNO               0\nSTATUS                 0\nADDRTYPE            1926\nINTKEY            129603\nLOCATION            2677\nEXCEPTRSNCODE     109862\nEXCEPTRSNDESC     189035\nSEVERITYCODE.1         0\nSEVERITYDESC           0\nCOLLISIONTYPE       4904\nPERSONCOUNT            0\nPEDCOUNT               0\nPEDCYLCOUNT            0\nVEHCOUNT               0\nINCDATE                0\nINCDTTM                0\nJUNCTIONTYPE        6329\nSDOT_COLCODE           0\nSDOT_COLDESC           0\nINATTENTIONIND    164868\nUNDERINFL           4884\nWEATHER             5081\nROADCOND            5012\nLIGHTCOND           5170\nPEDROWNOTGRNT     190006\nSDOTCOLNUM         79737\nSPEEDING          185340\nST_COLCODE            18\nST_COLDESC          4904\nSEGLANEKEY             0\nCROSSWALKKEY           0\nHITPARKEDCAR           0\ndtype: int64"
                    },
                    "metadata": {}
                }
            ]
        },
        {
            "metadata": {},
            "cell_type": "markdown",
            "source": "I know to handle the missing values, the best case remove the which columns are many missing values. \n<ul><li>INTKEY</li>\n    <li>EXCEPTRSNCODE</li>\n    <li>EXCEPTRSNDESC</li>\n    <li>INATTENTIONIND</li>\n    <li>PEDROWNOTGRNT</li>\n    <li>SDOTCOLNUM</li>\n    <li>SPEEDING</li></ul>"
        },
        {
            "metadata": {},
            "cell_type": "markdown",
            "source": "<h2 id='b'>Data Preparation </h12>"
        },
        {
            "metadata": {},
            "cell_type": "markdown",
            "source": "<h3>Datatypes of the data</h3>"
        },
        {
            "metadata": {},
            "cell_type": "markdown",
            "source": "drop the unwanted columns like object data types, null values, same value of columns and unrelated columns.<br>\n**eg:**<br>\nINCKEY and COLDETKEY both are same information. INCKEY is a unique key for the incident. COLDETKEY is secondary key for the incident "
        },
        {
            "metadata": {},
            "cell_type": "code",
            "source": "df= data.drop(['X','Y','SEVERITYCODE.1','INTKEY','COLDETKEY','COLLISIONTYPE','LIGHTCOND','REPORTNO','LOCATION','EXCEPTRSNCODE','EXCEPTRSNDESC','SEVERITYDESC','INCDATE','INCDTTM','JUNCTIONTYPE','SDOT_COLCODE','SDOT_COLDESC','INATTENTIONIND','UNDERINFL','PEDROWNOTGRNT','SDOTCOLNUM','SPEEDING','ST_COLDESC','SEGLANEKEY','CROSSWALKKEY','HITPARKEDCAR'],axis=1)",
            "execution_count": 10,
            "outputs": []
        },
        {
            "metadata": {},
            "cell_type": "code",
            "source": "df.head()",
            "execution_count": 11,
            "outputs": [
                {
                    "output_type": "execute_result",
                    "execution_count": 11,
                    "data": {
                        "text/plain": "   SEVERITYCODE  OBJECTID  INCKEY   STATUS      ADDRTYPE  PERSONCOUNT  \\\n0             2         1    1307  Matched  Intersection            2   \n1             1         2   52200  Matched         Block            2   \n2             1         3   26700  Matched         Block            4   \n3             1         4    1144  Matched         Block            3   \n4             2         5   17700  Matched  Intersection            2   \n\n   PEDCOUNT  PEDCYLCOUNT  VEHCOUNT   WEATHER ROADCOND ST_COLCODE  \n0         0            0         2  Overcast      Wet         10  \n1         0            0         2   Raining      Wet         11  \n2         0            0         3  Overcast      Dry         32  \n3         0            0         3     Clear      Dry         23  \n4         0            0         2   Raining      Wet         10  ",
                        "text/html": "<div>\n<style scoped>\n    .dataframe tbody tr th:only-of-type {\n        vertical-align: middle;\n    }\n\n    .dataframe tbody tr th {\n        vertical-align: top;\n    }\n\n    .dataframe thead th {\n        text-align: right;\n    }\n</style>\n<table border=\"1\" class=\"dataframe\">\n  <thead>\n    <tr style=\"text-align: right;\">\n      <th></th>\n      <th>SEVERITYCODE</th>\n      <th>OBJECTID</th>\n      <th>INCKEY</th>\n      <th>STATUS</th>\n      <th>ADDRTYPE</th>\n      <th>PERSONCOUNT</th>\n      <th>PEDCOUNT</th>\n      <th>PEDCYLCOUNT</th>\n      <th>VEHCOUNT</th>\n      <th>WEATHER</th>\n      <th>ROADCOND</th>\n      <th>ST_COLCODE</th>\n    </tr>\n  </thead>\n  <tbody>\n    <tr>\n      <th>0</th>\n      <td>2</td>\n      <td>1</td>\n      <td>1307</td>\n      <td>Matched</td>\n      <td>Intersection</td>\n      <td>2</td>\n      <td>0</td>\n      <td>0</td>\n      <td>2</td>\n      <td>Overcast</td>\n      <td>Wet</td>\n      <td>10</td>\n    </tr>\n    <tr>\n      <th>1</th>\n      <td>1</td>\n      <td>2</td>\n      <td>52200</td>\n      <td>Matched</td>\n      <td>Block</td>\n      <td>2</td>\n      <td>0</td>\n      <td>0</td>\n      <td>2</td>\n      <td>Raining</td>\n      <td>Wet</td>\n      <td>11</td>\n    </tr>\n    <tr>\n      <th>2</th>\n      <td>1</td>\n      <td>3</td>\n      <td>26700</td>\n      <td>Matched</td>\n      <td>Block</td>\n      <td>4</td>\n      <td>0</td>\n      <td>0</td>\n      <td>3</td>\n      <td>Overcast</td>\n      <td>Dry</td>\n      <td>32</td>\n    </tr>\n    <tr>\n      <th>3</th>\n      <td>1</td>\n      <td>4</td>\n      <td>1144</td>\n      <td>Matched</td>\n      <td>Block</td>\n      <td>3</td>\n      <td>0</td>\n      <td>0</td>\n      <td>3</td>\n      <td>Clear</td>\n      <td>Dry</td>\n      <td>23</td>\n    </tr>\n    <tr>\n      <th>4</th>\n      <td>2</td>\n      <td>5</td>\n      <td>17700</td>\n      <td>Matched</td>\n      <td>Intersection</td>\n      <td>2</td>\n      <td>0</td>\n      <td>0</td>\n      <td>2</td>\n      <td>Raining</td>\n      <td>Wet</td>\n      <td>10</td>\n    </tr>\n  </tbody>\n</table>\n</div>"
                    },
                    "metadata": {}
                }
            ]
        },
        {
            "metadata": {},
            "cell_type": "code",
            "source": "df.dtypes.value_counts().plot(kind='bar')",
            "execution_count": 12,
            "outputs": [
                {
                    "output_type": "execute_result",
                    "execution_count": 12,
                    "data": {
                        "text/plain": "<matplotlib.axes._subplots.AxesSubplot at 0x7f03cfd2b3c8>"
                    },
                    "metadata": {}
                },
                {
                    "output_type": "display_data",
                    "data": {
                        "text/plain": "<Figure size 432x288 with 1 Axes>",
                        "image/png": "[encoded data removed]"
                    },
                    "metadata": {
                        "needs_background": "light"
                    }
                }
            ]
        },
        {
            "metadata": {},
            "cell_type": "markdown",
            "source": "<h3>Missing Values of data</h3>"
        },
        {
            "metadata": {},
            "cell_type": "code",
            "source": "Null_values = df.isnull().sum()\nNull_values[0:11]",
            "execution_count": 13,
            "outputs": [
                {
                    "output_type": "execute_result",
                    "execution_count": 13,
                    "data": {
                        "text/plain": "SEVERITYCODE       0\nOBJECTID           0\nINCKEY             0\nSTATUS             0\nADDRTYPE        1926\nPERSONCOUNT        0\nPEDCOUNT           0\nPEDCYLCOUNT        0\nVEHCOUNT           0\nWEATHER         5081\nROADCOND        5012\ndtype: int64"
                    },
                    "metadata": {}
                }
            ]
        },
        {
            "metadata": {},
            "cell_type": "code",
            "source": "df['ST_COLCODE'] = df['ST_COLCODE'].fillna(0)",
            "execution_count": 14,
            "outputs": []
        },
        {
            "metadata": {},
            "cell_type": "code",
            "source": "df['ADDRTYPE'] = df['ADDRTYPE'].fillna(0)\ndf['ADDRTYPE'] = df['ADDRTYPE'].replace(0,'others')",
            "execution_count": 15,
            "outputs": []
        },
        {
            "metadata": {},
            "cell_type": "code",
            "source": "df['WEATHER'] = df['WEATHER'].fillna(0)\ndf['WEATHER'] = df['WEATHER'].replace(0,'others')",
            "execution_count": 16,
            "outputs": []
        },
        {
            "metadata": {},
            "cell_type": "code",
            "source": "df['ROADCOND'] = df['ROADCOND'].fillna(0)\ndf['ROADCOND'] = df['ROADCOND'].replace(0,'others')",
            "execution_count": 17,
            "outputs": []
        },
        {
            "metadata": {},
            "cell_type": "code",
            "source": "Null_values = df.isnull().sum()\nNull_values[0:11]",
            "execution_count": 18,
            "outputs": [
                {
                    "output_type": "execute_result",
                    "execution_count": 18,
                    "data": {
                        "text/plain": "SEVERITYCODE    0\nOBJECTID        0\nINCKEY          0\nSTATUS          0\nADDRTYPE        0\nPERSONCOUNT     0\nPEDCOUNT        0\nPEDCYLCOUNT     0\nVEHCOUNT        0\nWEATHER         0\nROADCOND        0\ndtype: int64"
                    },
                    "metadata": {}
                }
            ]
        },
        {
            "metadata": {},
            "cell_type": "markdown",
            "source": "<h3>Encoding the data</h3>"
        },
        {
            "metadata": {},
            "cell_type": "code",
            "source": "#addrtype\nfrom sklearn import preprocessing\naddrtype = preprocessing.LabelEncoder()\naddrtype.fit(['Intersection','Block','Alley','others'])\ndf['ADDRTYPE'] = addrtype.transform(df['ADDRTYPE'])",
            "execution_count": 19,
            "outputs": []
        },
        {
            "metadata": {},
            "cell_type": "code",
            "source": "list(addrtype.classes_)",
            "execution_count": 20,
            "outputs": [
                {
                    "output_type": "execute_result",
                    "execution_count": 20,
                    "data": {
                        "text/plain": "['Alley', 'Block', 'Intersection', 'others']"
                    },
                    "metadata": {}
                }
            ]
        },
        {
            "metadata": {},
            "cell_type": "markdown",
            "source": "<ul>\n<li>Intersection - 2</li>\n<li>Block - 1</li>\n<li>Alley - 0</li>\n<li>others - 3</li>\n    </ul>"
        },
        {
            "metadata": {},
            "cell_type": "code",
            "source": "#status\nfrom sklearn import preprocessing\nstatus = preprocessing.LabelEncoder()\nstatus.fit(['Unmatched','Matched'])\ndf['STATUS'] = status.transform(df['STATUS'])",
            "execution_count": 21,
            "outputs": []
        },
        {
            "metadata": {},
            "cell_type": "code",
            "source": "list(status.classes_)",
            "execution_count": 22,
            "outputs": [
                {
                    "output_type": "execute_result",
                    "execution_count": 22,
                    "data": {
                        "text/plain": "['Matched', 'Unmatched']"
                    },
                    "metadata": {}
                }
            ]
        },
        {
            "metadata": {},
            "cell_type": "markdown",
            "source": "<ul>\n<li>Matched - 0</li>\n<li>Unmatched - 1</li>\n\n</ul>"
        },
        {
            "metadata": {},
            "cell_type": "code",
            "source": "#weather\nfrom sklearn import preprocessing\nweathercond = preprocessing.LabelEncoder()\nweathercond.fit(['Clear','Raining','Overcast','Unknown','Snowing','Other','Fog/Smog/Smoke','Sleet/Hail/Freezing Rain','Blowing Sand/Dirt','Severe Crosswind','Partly Cloudy','others'])\ndf['WEATHER'] = weathercond.transform(df['WEATHER'])",
            "execution_count": 23,
            "outputs": []
        },
        {
            "metadata": {},
            "cell_type": "code",
            "source": "list(weathercond.classes_)",
            "execution_count": 24,
            "outputs": [
                {
                    "output_type": "execute_result",
                    "execution_count": 24,
                    "data": {
                        "text/plain": "['Blowing Sand/Dirt',\n 'Clear',\n 'Fog/Smog/Smoke',\n 'Other',\n 'Overcast',\n 'Partly Cloudy',\n 'Raining',\n 'Severe Crosswind',\n 'Sleet/Hail/Freezing Rain',\n 'Snowing',\n 'Unknown',\n 'others']"
                    },
                    "metadata": {}
                }
            ]
        },
        {
            "metadata": {},
            "cell_type": "code",
            "source": "#Road\nfrom sklearn import preprocessing\nroadcond = preprocessing.LabelEncoder()\nroadcond.fit(['Dry','Wet','Unknown','Ice','Snow/Slush','Other','Standing Water','Sand/Mud/Dirt','Oil','others'])\ndf['ROADCOND'] = roadcond.transform(df['ROADCOND'])",
            "execution_count": 25,
            "outputs": []
        },
        {
            "metadata": {},
            "cell_type": "code",
            "source": "list(roadcond.classes_)",
            "execution_count": 26,
            "outputs": [
                {
                    "output_type": "execute_result",
                    "execution_count": 26,
                    "data": {
                        "text/plain": "['Dry',\n 'Ice',\n 'Oil',\n 'Other',\n 'Sand/Mud/Dirt',\n 'Snow/Slush',\n 'Standing Water',\n 'Unknown',\n 'Wet',\n 'others']"
                    },
                    "metadata": {}
                }
            ]
        },
        {
            "metadata": {},
            "cell_type": "code",
            "source": "df.head()",
            "execution_count": 27,
            "outputs": [
                {
                    "output_type": "execute_result",
                    "execution_count": 27,
                    "data": {
                        "text/plain": "   SEVERITYCODE  OBJECTID  INCKEY  STATUS  ADDRTYPE  PERSONCOUNT  PEDCOUNT  \\\n0             2         1    1307       0         2            2         0   \n1             1         2   52200       0         1            2         0   \n2             1         3   26700       0         1            4         0   \n3             1         4    1144       0         1            3         0   \n4             2         5   17700       0         2            2         0   \n\n   PEDCYLCOUNT  VEHCOUNT  WEATHER  ROADCOND ST_COLCODE  \n0            0         2        4         8         10  \n1            0         2        6         8         11  \n2            0         3        4         0         32  \n3            0         3        1         0         23  \n4            0         2        6         8         10  ",
                        "text/html": "<div>\n<style scoped>\n    .dataframe tbody tr th:only-of-type {\n        vertical-align: middle;\n    }\n\n    .dataframe tbody tr th {\n        vertical-align: top;\n    }\n\n    .dataframe thead th {\n        text-align: right;\n    }\n</style>\n<table border=\"1\" class=\"dataframe\">\n  <thead>\n    <tr style=\"text-align: right;\">\n      <th></th>\n      <th>SEVERITYCODE</th>\n      <th>OBJECTID</th>\n      <th>INCKEY</th>\n      <th>STATUS</th>\n      <th>ADDRTYPE</th>\n      <th>PERSONCOUNT</th>\n      <th>PEDCOUNT</th>\n      <th>PEDCYLCOUNT</th>\n      <th>VEHCOUNT</th>\n      <th>WEATHER</th>\n      <th>ROADCOND</th>\n      <th>ST_COLCODE</th>\n    </tr>\n  </thead>\n  <tbody>\n    <tr>\n      <th>0</th>\n      <td>2</td>\n      <td>1</td>\n      <td>1307</td>\n      <td>0</td>\n      <td>2</td>\n      <td>2</td>\n      <td>0</td>\n      <td>0</td>\n      <td>2</td>\n      <td>4</td>\n      <td>8</td>\n      <td>10</td>\n    </tr>\n    <tr>\n      <th>1</th>\n      <td>1</td>\n      <td>2</td>\n      <td>52200</td>\n      <td>0</td>\n      <td>1</td>\n      <td>2</td>\n      <td>0</td>\n      <td>0</td>\n      <td>2</td>\n      <td>6</td>\n      <td>8</td>\n      <td>11</td>\n    </tr>\n    <tr>\n      <th>2</th>\n      <td>1</td>\n      <td>3</td>\n      <td>26700</td>\n      <td>0</td>\n      <td>1</td>\n      <td>4</td>\n      <td>0</td>\n      <td>0</td>\n      <td>3</td>\n      <td>4</td>\n      <td>0</td>\n      <td>32</td>\n    </tr>\n    <tr>\n      <th>3</th>\n      <td>1</td>\n      <td>4</td>\n      <td>1144</td>\n      <td>0</td>\n      <td>1</td>\n      <td>3</td>\n      <td>0</td>\n      <td>0</td>\n      <td>3</td>\n      <td>1</td>\n      <td>0</td>\n      <td>23</td>\n    </tr>\n    <tr>\n      <th>4</th>\n      <td>2</td>\n      <td>5</td>\n      <td>17700</td>\n      <td>0</td>\n      <td>2</td>\n      <td>2</td>\n      <td>0</td>\n      <td>0</td>\n      <td>2</td>\n      <td>6</td>\n      <td>8</td>\n      <td>10</td>\n    </tr>\n  </tbody>\n</table>\n</div>"
                    },
                    "metadata": {}
                }
            ]
        },
        {
            "metadata": {},
            "cell_type": "markdown",
            "source": "<h2 id='c'>Exploratory Data Analysis</h2>"
        },
        {
            "metadata": {
                "scrolled": true
            },
            "cell_type": "code",
            "source": "sns.countplot(df['SEVERITYCODE'], data=df)",
            "execution_count": 28,
            "outputs": [
                {
                    "output_type": "execute_result",
                    "execution_count": 28,
                    "data": {
                        "text/plain": "<matplotlib.axes._subplots.AxesSubplot at 0x7f03cfc413c8>"
                    },
                    "metadata": {}
                },
                {
                    "output_type": "display_data",
                    "data": {
                        "text/plain": "<Figure size 432x288 with 1 Axes>",
                        "image/png": "[encoded data removed]"
                    },
                    "metadata": {
                        "needs_background": "light"
                    }
                }
            ]
        },
        {
            "metadata": {},
            "cell_type": "code",
            "source": "sns.countplot(df['STATUS'], data=df)",
            "execution_count": 29,
            "outputs": [
                {
                    "output_type": "execute_result",
                    "execution_count": 29,
                    "data": {
                        "text/plain": "<matplotlib.axes._subplots.AxesSubplot at 0x7f03cfbba320>"
                    },
                    "metadata": {}
                },
                {
                    "output_type": "display_data",
                    "data": {
                        "text/plain": "<Figure size 432x288 with 1 Axes>",
                        "image/png": "[encoded data removed]"
                    },
                    "metadata": {
                        "needs_background": "light"
                    }
                }
            ]
        },
        {
            "metadata": {},
            "cell_type": "code",
            "source": "sns.countplot(df['ADDRTYPE'], data=df)",
            "execution_count": 30,
            "outputs": [
                {
                    "output_type": "execute_result",
                    "execution_count": 30,
                    "data": {
                        "text/plain": "<matplotlib.axes._subplots.AxesSubplot at 0x7f03cfb80358>"
                    },
                    "metadata": {}
                },
                {
                    "output_type": "display_data",
                    "data": {
                        "text/plain": "<Figure size 432x288 with 1 Axes>",
                        "image/png": "[encoded data removed]"
                    },
                    "metadata": {
                        "needs_background": "light"
                    }
                }
            ]
        },
        {
            "metadata": {},
            "cell_type": "code",
            "source": "sns.countplot(df['PEDCOUNT'], data=df)",
            "execution_count": 32,
            "outputs": [
                {
                    "output_type": "execute_result",
                    "execution_count": 32,
                    "data": {
                        "text/plain": "<matplotlib.axes._subplots.AxesSubplot at 0x7f03d8561b70>"
                    },
                    "metadata": {}
                },
                {
                    "output_type": "display_data",
                    "data": {
                        "text/plain": "<Figure size 432x288 with 1 Axes>",
                        "image/png": "[encoded data removed]"
                    },
                    "metadata": {
                        "needs_background": "light"
                    }
                }
            ]
        },
        {
            "metadata": {},
            "cell_type": "code",
            "source": "sns.countplot(df['PEDCYLCOUNT'], data=df)",
            "execution_count": 33,
            "outputs": [
                {
                    "output_type": "execute_result",
                    "execution_count": 33,
                    "data": {
                        "text/plain": "<matplotlib.axes._subplots.AxesSubplot at 0x7f03cf9e7748>"
                    },
                    "metadata": {}
                },
                {
                    "output_type": "display_data",
                    "data": {
                        "text/plain": "<Figure size 432x288 with 1 Axes>",
                        "image/png": "[encoded data removed]"
                    },
                    "metadata": {
                        "needs_background": "light"
                    }
                }
            ]
        },
        {
            "metadata": {},
            "cell_type": "code",
            "source": "fig, axes = plt.subplots(2, 2, sharex=True, figsize=(10,5))\nsns.boxplot(ax=axes[0, 0], data=df, x='SEVERITYCODE', y='ADDRTYPE')\naxes[0].set_title('Address Type')\nsns.boxplot(ax=axes[0, 1], data=df, x='SEVERITYCODE', y='STATUS')\naxes[1].set_title('Status')\nsns.boxplot(ax=axes[1, 0], data=df, x='SEVERITYCODE', y='WEATHER')\naxes[2].set_title('Weathe')\nsns.boxplot(ax=axes[1, 1], data=df, x='SEVERITYCODE', y='ROADCOND')\naxes[3].set_title(bulbasaur.name)",
            "execution_count": 97,
            "outputs": [
                {
                    "output_type": "execute_result",
                    "execution_count": 97,
                    "data": {
                        "text/plain": "<matplotlib.axes._subplots.AxesSubplot at 0x7f03ad33a2b0>"
                    },
                    "metadata": {}
                },
                {
                    "output_type": "display_data",
                    "data": {
                        "text/plain": "<Figure size 720x360 with 4 Axes>",
                        "image/png": "[encoded data removed]"
                    },
                    "metadata": {
                        "needs_background": "light"
                    }
                }
            ]
        },
        {
            "metadata": {
                "scrolled": true
            },
            "cell_type": "code",
            "source": "sns.heatmap(df.corr(),cmap=\"Blues\", linewidth=0.3, cbar_kws={\"shrink\": .8})",
            "execution_count": 35,
            "outputs": [
                {
                    "output_type": "execute_result",
                    "execution_count": 35,
                    "data": {
                        "text/plain": "<matplotlib.axes._subplots.AxesSubplot at 0x7f03cf8e88d0>"
                    },
                    "metadata": {}
                },
                {
                    "output_type": "display_data",
                    "data": {
                        "text/plain": "<Figure size 432x288 with 2 Axes>",
                        "image/png": "[encoded data removed]"
                    },
                    "metadata": {
                        "needs_background": "light"
                    }
                }
            ]
        },
        {
            "metadata": {},
            "cell_type": "markdown",
            "source": "<h2 id='d'>Predictive Modeling & Evaluation</h2>"
        },
        {
            "metadata": {},
            "cell_type": "code",
            "source": "#import libraries\nfrom sklearn.model_selection import train_test_split\nfrom sklearn.neighbors import KNeighborsClassifier\nfrom sklearn.tree import DecisionTreeClassifier\nfrom sklearn import svm\nfrom sklearn.linear_model import LogisticRegression\nfrom sklearn.naive_bayes import GaussianNB\nfrom sklearn.ensemble import RandomForestClassifier\nfrom sklearn.metrics import accuracy_score, f1_score, r2_score, jaccard_similarity_score, confusion_matrix, classification_report",
            "execution_count": 36,
            "outputs": []
        },
        {
            "metadata": {},
            "cell_type": "code",
            "source": "#split the data\n\nX = df[['OBJECTID','INCKEY','STATUS','ADDRTYPE','PERSONCOUNT','PEDCOUNT','PEDCYLCOUNT','VEHCOUNT']]\ny = df['SEVERITYCODE']\nX_train, X_test, y_train, y_test = train_test_split(X, y, test_size=0.2, random_state=1)",
            "execution_count": 54,
            "outputs": []
        },
        {
            "metadata": {},
            "cell_type": "code",
            "source": "print(\"Train set size\")\nprint(X_train.shape)\nprint(y_train.shape)\nprint('')\nprint(\"Test set size\")\nprint(X_test.shape)\nprint(y_test.shape)",
            "execution_count": 55,
            "outputs": [
                {
                    "output_type": "stream",
                    "text": "Train set size\n(155738, 8)\n(155738,)\n\nTest set size\n(38935, 8)\n(38935,)\n",
                    "name": "stdout"
                }
            ]
        },
        {
            "metadata": {},
            "cell_type": "markdown",
            "source": "<h3>K Nearest Neighbors</h3>"
        },
        {
            "metadata": {},
            "cell_type": "code",
            "source": "k=17\nknn = KNeighborsClassifier(n_neighbors = k).fit(X_train,y_train)\nknn",
            "execution_count": 56,
            "outputs": [
                {
                    "output_type": "execute_result",
                    "execution_count": 56,
                    "data": {
                        "text/plain": "KNeighborsClassifier(algorithm='auto', leaf_size=30, metric='minkowski',\n           metric_params=None, n_jobs=None, n_neighbors=17, p=2,\n           weights='uniform')"
                    },
                    "metadata": {}
                }
            ]
        },
        {
            "metadata": {},
            "cell_type": "code",
            "source": "knn_pred = knn.predict(X_test)\nknn_pred",
            "execution_count": 57,
            "outputs": [
                {
                    "output_type": "execute_result",
                    "execution_count": 57,
                    "data": {
                        "text/plain": "array([1, 1, 1, ..., 1, 1, 1])"
                    },
                    "metadata": {}
                }
            ]
        },
        {
            "metadata": {},
            "cell_type": "code",
            "source": "print('Score:',accuracy_score(knn_pred, y_test))\nprint('F1-Score:',f1_score(knn_pred, y_test))\nprint('Jaccard Score:',jaccard_similarity_score(knn_pred, y_test))\nprint('')\nprint('Confusion Martix:')\nprint(confusion_matrix(y_test, knn_pred, labels=[1,0]))\nprint('')\nprint('Classification Report:')\nprint (classification_report(y_test, knn_pred))",
            "execution_count": 58,
            "outputs": [
                {
                    "output_type": "stream",
                    "text": "Score: 0.6868113522537562\nF1-Score: 0.8105109398309297\nJaccard Score: 0.6868113522537562\n\nConfusion Martix:\n[[26079     0]\n [    0     0]]\n\nClassification Report:\n              precision    recall  f1-score   support\n\n           1       0.70      0.95      0.81     27359\n           2       0.34      0.06      0.10     11576\n\n   micro avg       0.69      0.69      0.69     38935\n   macro avg       0.52      0.51      0.45     38935\nweighted avg       0.60      0.69      0.60     38935\n\n",
                    "name": "stdout"
                }
            ]
        },
        {
            "metadata": {},
            "cell_type": "code",
            "source": "Ks = 20\nmean_acc = np.zeros((Ks-1))\nstd_acc = np.zeros((Ks-1))\nConfustionMx = [];\nfor n in range(1,Ks):\n    \n    #Train Model and Predict  \n    knn = KNeighborsClassifier(n_neighbors = n).fit(X_train,y_train)\n    pred=knn.predict(X_test)\n    mean_acc[n-1] = accuracy_score(y_test, pred)\n\n    \n    std_acc[n-1]=np.std(pred==y_test)/np.sqrt(pred.shape[0])\n\nmean_acc",
            "execution_count": 59,
            "outputs": [
                {
                    "output_type": "execute_result",
                    "execution_count": 59,
                    "data": {
                        "text/plain": "array([0.5922178 , 0.66991139, 0.62175421, 0.67170926, 0.6409914 ,\n       0.67766791, 0.6532169 , 0.68121228, 0.66495441, 0.68645178,\n       0.67381533, 0.68789007, 0.6791062 , 0.69068961, 0.68344677,\n       0.69377167, 0.68681135, 0.69590343, 0.69099782])"
                    },
                    "metadata": {}
                }
            ]
        },
        {
            "metadata": {},
            "cell_type": "code",
            "source": "plt.plot(range(1,Ks),mean_acc,'g')\nplt.fill_between(range(1,Ks),mean_acc - 1 * std_acc,mean_acc + 1 * std_acc, alpha=0.10)\nplt.legend(('Accuracy ', '+/- 3xstd'))\nplt.ylabel('Accuracy ')\nplt.xlabel('Number of Nabors (K)')\nplt.tight_layout()\nplt.show()",
            "execution_count": 60,
            "outputs": [
                {
                    "output_type": "display_data",
                    "data": {
                        "text/plain": "<Figure size 432x288 with 1 Axes>",
                        "image/png": "[encoded data removed]"
                    },
                    "metadata": {
                        "needs_background": "light"
                    }
                }
            ]
        },
        {
            "metadata": {},
            "cell_type": "markdown",
            "source": "<h3>Decision Tree</h3>"
        },
        {
            "metadata": {},
            "cell_type": "code",
            "source": "tree = DecisionTreeClassifier(criterion=\"gini\", max_depth = 4).fit(X_train, y_train)\ntree",
            "execution_count": 61,
            "outputs": [
                {
                    "output_type": "execute_result",
                    "execution_count": 61,
                    "data": {
                        "text/plain": "DecisionTreeClassifier(class_weight=None, criterion='gini', max_depth=4,\n            max_features=None, max_leaf_nodes=None,\n            min_impurity_decrease=0.0, min_impurity_split=None,\n            min_samples_leaf=1, min_samples_split=2,\n            min_weight_fraction_leaf=0.0, presort=False, random_state=None,\n            splitter='best')"
                    },
                    "metadata": {}
                }
            ]
        },
        {
            "metadata": {},
            "cell_type": "code",
            "source": "tree_pred = tree.predict(X_test)\ntree_pred",
            "execution_count": 62,
            "outputs": [
                {
                    "output_type": "execute_result",
                    "execution_count": 62,
                    "data": {
                        "text/plain": "array([1, 2, 1, ..., 1, 1, 1])"
                    },
                    "metadata": {}
                }
            ]
        },
        {
            "metadata": {},
            "cell_type": "code",
            "source": "print('Score:',accuracy_score(tree_pred, y_test))\nprint('F1-Score:',f1_score(tree_pred, y_test))\nprint('Jaccard Score:',jaccard_similarity_score(tree_pred, y_test))\nprint('')\nprint('Confusion Martix:')\nprint(confusion_matrix(y_test, tree_pred, labels=[1,0]))\nprint('')\nprint('Classification Report:')\nprint (classification_report(y_test, tree_pred))",
            "execution_count": 63,
            "outputs": [
                {
                    "output_type": "stream",
                    "text": "Score: 0.7509181969949916\nF1-Score: 0.8481936009016342\nJaccard Score: 0.7509181969949916\n\nConfusion Martix:\n[[27093     0]\n [    0     0]]\n\nClassification Report:\n              precision    recall  f1-score   support\n\n           1       0.74      0.99      0.85     27359\n           2       0.89      0.19      0.31     11576\n\n   micro avg       0.75      0.75      0.75     38935\n   macro avg       0.82      0.59      0.58     38935\nweighted avg       0.79      0.75      0.69     38935\n\n",
                    "name": "stdout"
                }
            ]
        },
        {
            "metadata": {},
            "cell_type": "markdown",
            "source": "<h3>Logistic Regression</h3>"
        },
        {
            "metadata": {
                "scrolled": true
            },
            "cell_type": "code",
            "source": "lr = LogisticRegression(C=0.01, solver='liblinear').fit(X_train,y_train)\nlr",
            "execution_count": 64,
            "outputs": [
                {
                    "output_type": "execute_result",
                    "execution_count": 64,
                    "data": {
                        "text/plain": "LogisticRegression(C=0.01, class_weight=None, dual=False, fit_intercept=True,\n          intercept_scaling=1, max_iter=100, multi_class='warn',\n          n_jobs=None, penalty='l2', random_state=None, solver='liblinear',\n          tol=0.0001, verbose=0, warm_start=False)"
                    },
                    "metadata": {}
                }
            ]
        },
        {
            "metadata": {},
            "cell_type": "code",
            "source": "lr_pred = lr.predict(X_test)\nlr_pred",
            "execution_count": 65,
            "outputs": [
                {
                    "output_type": "execute_result",
                    "execution_count": 65,
                    "data": {
                        "text/plain": "array([1, 1, 1, ..., 1, 1, 1])"
                    },
                    "metadata": {}
                }
            ]
        },
        {
            "metadata": {},
            "cell_type": "code",
            "source": "print('Score:',accuracy_score(lr_pred, y_test))\nprint('F1-Score:',f1_score(lr_pred, y_test))\nprint('Jaccard Score:',jaccard_similarity_score(lr_pred, y_test))\nprint('')\nprint('Confusion Martix:')\nprint(confusion_matrix(y_test, lr_pred, labels=[1,0]))\nprint('')\nprint('Classification Report:')\nprint (classification_report(y_test, lr_pred))",
            "execution_count": 66,
            "outputs": [
                {
                    "output_type": "stream",
                    "text": "Score: 0.6984461281623218\nF1-Score: 0.8216818796227389\nJaccard Score: 0.6984461281623218\n\nConfusion Martix:\n[[27051     0]\n [    0     0]]\n\nClassification Report:\n              precision    recall  f1-score   support\n\n           1       0.70      0.99      0.82     27359\n           2       0.32      0.01      0.02     11576\n\n   micro avg       0.70      0.70      0.70     38935\n   macro avg       0.51      0.50      0.42     38935\nweighted avg       0.59      0.70      0.58     38935\n\n",
                    "name": "stdout"
                }
            ]
        },
        {
            "metadata": {},
            "cell_type": "markdown",
            "source": "<h3>Navie Bayes</h3>"
        },
        {
            "metadata": {},
            "cell_type": "code",
            "source": "nb = GaussianNB(priors=None, var_smoothing=1e-09).fit(X_train,y_train)\nnb",
            "execution_count": 67,
            "outputs": [
                {
                    "output_type": "execute_result",
                    "execution_count": 67,
                    "data": {
                        "text/plain": "GaussianNB(priors=None, var_smoothing=1e-09)"
                    },
                    "metadata": {}
                }
            ]
        },
        {
            "metadata": {},
            "cell_type": "code",
            "source": "nb_pred = nb.predict(X_test)\nnb_pred",
            "execution_count": 68,
            "outputs": [
                {
                    "output_type": "execute_result",
                    "execution_count": 68,
                    "data": {
                        "text/plain": "array([1, 1, 1, ..., 1, 1, 1])"
                    },
                    "metadata": {}
                }
            ]
        },
        {
            "metadata": {},
            "cell_type": "code",
            "source": "print('Score:',accuracy_score(nb_pred, y_test))\nprint('F1-Score:',f1_score(nb_pred, y_test))\nprint('Jaccard Score:',jaccard_similarity_score(nb_pred, y_test))\nprint('')\nprint('Confusion Martix:')\nprint(confusion_matrix(y_test, knn_pred, labels=[1,0]))\nprint('')\nprint('Classification Report:')\nprint (classification_report(y_test, nb_pred))",
            "execution_count": 69,
            "outputs": [
                {
                    "output_type": "stream",
                    "text": "Score: 0.7022987029664826\nF1-Score: 0.8250758341759353\nJaccard Score: 0.7022987029664826\n\nConfusion Martix:\n[[26079     0]\n [    0     0]]\n\nClassification Report:\n              precision    recall  f1-score   support\n\n           1       0.70      1.00      0.83     27359\n           2       0.26      0.00      0.00     11576\n\n   micro avg       0.70      0.70      0.70     38935\n   macro avg       0.48      0.50      0.41     38935\nweighted avg       0.57      0.70      0.58     38935\n\n",
                    "name": "stdout"
                }
            ]
        },
        {
            "metadata": {},
            "cell_type": "markdown",
            "source": "<h3>Random Forest</h3>"
        },
        {
            "metadata": {
                "scrolled": true
            },
            "cell_type": "code",
            "source": "rf = RandomForestClassifier(n_estimators=20).fit(X_train,y_train)\nrf",
            "execution_count": 70,
            "outputs": [
                {
                    "output_type": "execute_result",
                    "execution_count": 70,
                    "data": {
                        "text/plain": "RandomForestClassifier(bootstrap=True, class_weight=None, criterion='gini',\n            max_depth=None, max_features='auto', max_leaf_nodes=None,\n            min_impurity_decrease=0.0, min_impurity_split=None,\n            min_samples_leaf=1, min_samples_split=2,\n            min_weight_fraction_leaf=0.0, n_estimators=20, n_jobs=None,\n            oob_score=False, random_state=None, verbose=0,\n            warm_start=False)"
                    },
                    "metadata": {}
                }
            ]
        },
        {
            "metadata": {},
            "cell_type": "code",
            "source": "rf_pred = rf.predict(X_test)\nrf_pred",
            "execution_count": 71,
            "outputs": [
                {
                    "output_type": "execute_result",
                    "execution_count": 71,
                    "data": {
                        "text/plain": "array([1, 1, 1, ..., 2, 1, 1])"
                    },
                    "metadata": {}
                }
            ]
        },
        {
            "metadata": {},
            "cell_type": "code",
            "source": "print('Score:',accuracy_score(rf_pred, y_test))\nprint('F1-Score:',f1_score(rf_pred, y_test))\nprint('Jaccard Score:',jaccard_similarity_score(rf_pred, y_test))\nprint('')\nprint('Confusion Martix:')\nprint(confusion_matrix(y_test, knn_pred, labels=[1,0]))\nprint('')\nprint('Classification Report:')\nprint (classification_report(y_test, rf_pred))",
            "execution_count": 72,
            "outputs": [
                {
                    "output_type": "stream",
                    "text": "Score: 0.711878772312829\nF1-Score: 0.8068925153205261\nJaccard Score: 0.711878772312829\n\nConfusion Martix:\n[[26079     0]\n [    0     0]]\n\nClassification Report:\n              precision    recall  f1-score   support\n\n           1       0.76      0.86      0.81     27359\n           2       0.52      0.37      0.43     11576\n\n   micro avg       0.71      0.71      0.71     38935\n   macro avg       0.64      0.61      0.62     38935\nweighted avg       0.69      0.71      0.70     38935\n\n",
                    "name": "stdout"
                }
            ]
        },
        {
            "metadata": {},
            "cell_type": "markdown",
            "source": "Finally, get a good result for all classification algorithms. the best classifier of this problem is **k nearest neighbour**. It's get  best score and more true positive values."
        },
        {
            "metadata": {},
            "cell_type": "markdown",
            "source": "<h3>Result & Discussion </h3>"
        },
        {
            "metadata": {},
            "cell_type": "markdown",
            "source": "Our analysis shows that although there is a collisions of all years. I find the what happend after collision based on that corresponds to the severity of the collision. It provide <br>\n\u2022 3 \u2014 fatality<br>\n\u2022 2b \u2014 serious injury<br> \n\u2022 2 \u2014 injury <br>\n\u2022 1 \u2014 prop damage<br> \n\u2022 0 \u2014 unknown \n\nThats major important matter to the collisions. so we tried to predict what type of injury based on weather condition, road condition, etc... "
        },
        {
            "metadata": {},
            "cell_type": "markdown",
            "source": "<h2 id='e'>Conclusion</h2>"
        },
        {
            "metadata": {},
            "cell_type": "markdown",
            "source": "A traffic collision, also called a motor vehicle collision, car accident, or car crash, occurs when a vehicle collides with another vehicle, pedestrian, animal, road debris, or other stationary obstruction, such as a tree, pole or building. Traffic collisions often result in injury, disability, death, and property damage as well as financial costs to both society and the individuals involved.\n\nPurpose of this project was to identify the **type of collisions or type of injury** to the during of collision. The major important of predicting is Weather condition, Road condition, Address of collision, How many peoples are involved, How many vehicles are present and Which type of vehicles. That are hepls to predicte to what type of injury or disability in collision.\n\nFinal discussion, we get optimal solution to the Collisions of all year in further analysis."
        },
        {
            "metadata": {},
            "cell_type": "code",
            "source": "",
            "execution_count": null,
            "outputs": []
        }
    ],
    "metadata": {
        "kernelspec": {
            "name": "python3",
            "display_name": "Python 3.6",
            "language": "python"
        },
        "language_info": {
            "name": "python",
            "version": "3.6.9",
            "mimetype": "text/x-python",
            "codemirror_mode": {
                "name": "ipython",
                "version": 3
            },
            "pygments_lexer": "ipython3",
            "nbconvert_exporter": "python",
            "file_extension": ".py"
        }
    },
    "nbformat": 4,
    "nbformat_minor": 1
}